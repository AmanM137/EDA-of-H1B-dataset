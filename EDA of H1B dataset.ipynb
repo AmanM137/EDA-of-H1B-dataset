{
 "cells": [
  {
   "cell_type": "markdown",
   "id": "0c9f6edc",
   "metadata": {},
   "source": [
    "## <p style=\"background-color:#068FFF; color:white; font-family:monospace; font-size:250%; text-align:center; border-radius: 5px 20px;padding:10px\">EDA of H1B Dataset</p>"
   ]
  },
  {
   "cell_type": "markdown",
   "id": "ca0a06db",
   "metadata": {},
   "source": [
    "#### <p style=\"background-color:#068FFF; color:white; font-family:newtimeroman; font-size:150%; text-align:left; border-radius: 5px 5px;padding-left:50px;padding:10px\">Loading Libraries:</p>"
   ]
  },
  {
   "cell_type": "code",
   "execution_count": 44,
   "id": "fa26c76a",
   "metadata": {},
   "outputs": [],
   "source": [
    "import numpy as np\n",
    "import pandas as pd\n",
    "import matplotlib.pyplot as plt\n",
    "import seaborn as sns"
   ]
  },
  {
   "cell_type": "markdown",
   "id": "8caf6428",
   "metadata": {},
   "source": [
    "#### <p style=\"background-color:#068FFF; color:white; font-family:newtimeroman; font-size:150%; text-align:left; border-radius: 5px 5px;padding-left:50px;padding:10px\">About Dataset:</p>"
   ]
  },
  {
   "cell_type": "markdown",
   "id": "6276dec2",
   "metadata": {},
   "source": [
    "###  <p style=\"font-family:newtimeroman; font-size:150%; text-align:left;padding:0px;font-size:120%\">Context:</p>\n",
    "<p style=\"text-align:left; font-family:newtimeroman;padding-left:10px;padding-right:10px;font-size:110%;margin:0px\">H-1B visas are a category of employment-based, non-immigrant visas for temporary foreign workers in the United States. For a foreign national to apply for H1-B visa, a US employer must offer them a job and submit a petition for a H-1B visa to the US immigration department. This is also the most common visa status applied for and held by international students once they complete college or higher education and begin working in a full-time position.</p>"
   ]
  },
  {
   "cell_type": "markdown",
   "id": "58925bc3",
   "metadata": {},
   "source": [
    "###  <p style=\"font-family:newtimeroman; font-size:150%; text-align:left;padding:0px;font-size:120%\">Content:</p>\n",
    "<p style=\"text-align:left; font-family:newtimeroman;padding-left:10px;padding-right:10px;font-size:110%;margin:0px\">This dataset contains five year's worth of H-1B petition data, with approximately 3 million records overall. The columns in the dataset include case status, employer name, worksite coordinates, job title, prevailing wage, occupation code, and year filed.</p>"
   ]
  },
  {
   "cell_type": "markdown",
   "id": "83461988",
   "metadata": {},
   "source": [
    "#### <p style=\"background-color:#068FFF; color:white; font-family:newtimeroman; font-size:150%; text-align:left; border-radius: 5px 5px;padding-left:50px;padding:10px\">Loading Dataset:</p>"
   ]
  },
  {
   "cell_type": "code",
   "execution_count": 45,
   "id": "eab7316c",
   "metadata": {},
   "outputs": [],
   "source": [
    "def get_data(dataset_name):\n",
    "    return pd.read_csv(dataset_name)"
   ]
  },
  {
   "cell_type": "code",
   "execution_count": 47,
   "id": "a855facc",
   "metadata": {},
   "outputs": [],
   "source": [
    "h1b=get_data(\"h1b.csv\")"
   ]
  },
  {
   "cell_type": "markdown",
   "id": "85aed351",
   "metadata": {},
   "source": [
    "#### <p style=\"background-color:#068FFF; color:white; font-family:newtimeroman; font-size:150%; text-align:left; border-radius: 5px 5px;padding-left:50px;padding:10px\">Overview of Data:</p>"
   ]
  },
  {
   "cell_type": "code",
   "execution_count": 48,
   "id": "ad477940",
   "metadata": {},
   "outputs": [
    {
     "name": "stdout",
     "output_type": "stream",
     "text": [
      "<class 'pandas.core.frame.DataFrame'>\n",
      "RangeIndex: 3002458 entries, 0 to 3002457\n",
      "Data columns (total 11 columns):\n",
      " #   Column              Dtype  \n",
      "---  ------              -----  \n",
      " 0   Unnamed: 0          int64  \n",
      " 1   CASE_STATUS         object \n",
      " 2   EMPLOYER_NAME       object \n",
      " 3   SOC_NAME            object \n",
      " 4   JOB_TITLE           object \n",
      " 5   FULL_TIME_POSITION  object \n",
      " 6   PREVAILING_WAGE     float64\n",
      " 7   YEAR                float64\n",
      " 8   WORKSITE            object \n",
      " 9   lon                 float64\n",
      " 10  lat                 float64\n",
      "dtypes: float64(4), int64(1), object(6)\n",
      "memory usage: 252.0+ MB\n"
     ]
    }
   ],
   "source": [
    "h1b.info()"
   ]
  },
  {
   "cell_type": "code",
   "execution_count": 49,
   "id": "a6ad74f8",
   "metadata": {},
   "outputs": [
    {
     "data": {
      "text/html": [
       "<div>\n",
       "<style scoped>\n",
       "    .dataframe tbody tr th:only-of-type {\n",
       "        vertical-align: middle;\n",
       "    }\n",
       "\n",
       "    .dataframe tbody tr th {\n",
       "        vertical-align: top;\n",
       "    }\n",
       "\n",
       "    .dataframe thead th {\n",
       "        text-align: right;\n",
       "    }\n",
       "</style>\n",
       "<table border=\"1\" class=\"dataframe\">\n",
       "  <thead>\n",
       "    <tr style=\"text-align: right;\">\n",
       "      <th></th>\n",
       "      <th>Unnamed: 0</th>\n",
       "      <th>CASE_STATUS</th>\n",
       "      <th>EMPLOYER_NAME</th>\n",
       "      <th>SOC_NAME</th>\n",
       "      <th>JOB_TITLE</th>\n",
       "      <th>FULL_TIME_POSITION</th>\n",
       "      <th>PREVAILING_WAGE</th>\n",
       "      <th>YEAR</th>\n",
       "      <th>WORKSITE</th>\n",
       "      <th>lon</th>\n",
       "      <th>lat</th>\n",
       "    </tr>\n",
       "  </thead>\n",
       "  <tbody>\n",
       "    <tr>\n",
       "      <th>0</th>\n",
       "      <td>1</td>\n",
       "      <td>CERTIFIED-WITHDRAWN</td>\n",
       "      <td>UNIVERSITY OF MICHIGAN</td>\n",
       "      <td>BIOCHEMISTS AND BIOPHYSICISTS</td>\n",
       "      <td>POSTDOCTORAL RESEARCH FELLOW</td>\n",
       "      <td>N</td>\n",
       "      <td>36067.0</td>\n",
       "      <td>2016.0</td>\n",
       "      <td>ANN ARBOR, MICHIGAN</td>\n",
       "      <td>-83.743038</td>\n",
       "      <td>42.280826</td>\n",
       "    </tr>\n",
       "    <tr>\n",
       "      <th>1</th>\n",
       "      <td>2</td>\n",
       "      <td>CERTIFIED-WITHDRAWN</td>\n",
       "      <td>GOODMAN NETWORKS, INC.</td>\n",
       "      <td>CHIEF EXECUTIVES</td>\n",
       "      <td>CHIEF OPERATING OFFICER</td>\n",
       "      <td>Y</td>\n",
       "      <td>242674.0</td>\n",
       "      <td>2016.0</td>\n",
       "      <td>PLANO, TEXAS</td>\n",
       "      <td>-96.698886</td>\n",
       "      <td>33.019843</td>\n",
       "    </tr>\n",
       "    <tr>\n",
       "      <th>2</th>\n",
       "      <td>3</td>\n",
       "      <td>CERTIFIED-WITHDRAWN</td>\n",
       "      <td>PORTS AMERICA GROUP, INC.</td>\n",
       "      <td>CHIEF EXECUTIVES</td>\n",
       "      <td>CHIEF PROCESS OFFICER</td>\n",
       "      <td>Y</td>\n",
       "      <td>193066.0</td>\n",
       "      <td>2016.0</td>\n",
       "      <td>JERSEY CITY, NEW JERSEY</td>\n",
       "      <td>-74.077642</td>\n",
       "      <td>40.728158</td>\n",
       "    </tr>\n",
       "    <tr>\n",
       "      <th>3</th>\n",
       "      <td>4</td>\n",
       "      <td>CERTIFIED-WITHDRAWN</td>\n",
       "      <td>GATES CORPORATION, A WHOLLY-OWNED SUBSIDIARY O...</td>\n",
       "      <td>CHIEF EXECUTIVES</td>\n",
       "      <td>REGIONAL PRESIDEN, AMERICAS</td>\n",
       "      <td>Y</td>\n",
       "      <td>220314.0</td>\n",
       "      <td>2016.0</td>\n",
       "      <td>DENVER, COLORADO</td>\n",
       "      <td>-104.990251</td>\n",
       "      <td>39.739236</td>\n",
       "    </tr>\n",
       "    <tr>\n",
       "      <th>4</th>\n",
       "      <td>5</td>\n",
       "      <td>WITHDRAWN</td>\n",
       "      <td>PEABODY INVESTMENTS CORP.</td>\n",
       "      <td>CHIEF EXECUTIVES</td>\n",
       "      <td>PRESIDENT MONGOLIA AND INDIA</td>\n",
       "      <td>Y</td>\n",
       "      <td>157518.4</td>\n",
       "      <td>2016.0</td>\n",
       "      <td>ST. LOUIS, MISSOURI</td>\n",
       "      <td>-90.199404</td>\n",
       "      <td>38.627003</td>\n",
       "    </tr>\n",
       "  </tbody>\n",
       "</table>\n",
       "</div>"
      ],
      "text/plain": [
       "   Unnamed: 0          CASE_STATUS  \\\n",
       "0           1  CERTIFIED-WITHDRAWN   \n",
       "1           2  CERTIFIED-WITHDRAWN   \n",
       "2           3  CERTIFIED-WITHDRAWN   \n",
       "3           4  CERTIFIED-WITHDRAWN   \n",
       "4           5            WITHDRAWN   \n",
       "\n",
       "                                       EMPLOYER_NAME  \\\n",
       "0                             UNIVERSITY OF MICHIGAN   \n",
       "1                             GOODMAN NETWORKS, INC.   \n",
       "2                          PORTS AMERICA GROUP, INC.   \n",
       "3  GATES CORPORATION, A WHOLLY-OWNED SUBSIDIARY O...   \n",
       "4                          PEABODY INVESTMENTS CORP.   \n",
       "\n",
       "                        SOC_NAME                     JOB_TITLE  \\\n",
       "0  BIOCHEMISTS AND BIOPHYSICISTS  POSTDOCTORAL RESEARCH FELLOW   \n",
       "1               CHIEF EXECUTIVES       CHIEF OPERATING OFFICER   \n",
       "2               CHIEF EXECUTIVES         CHIEF PROCESS OFFICER   \n",
       "3               CHIEF EXECUTIVES   REGIONAL PRESIDEN, AMERICAS   \n",
       "4               CHIEF EXECUTIVES  PRESIDENT MONGOLIA AND INDIA   \n",
       "\n",
       "  FULL_TIME_POSITION  PREVAILING_WAGE    YEAR                 WORKSITE  \\\n",
       "0                  N          36067.0  2016.0      ANN ARBOR, MICHIGAN   \n",
       "1                  Y         242674.0  2016.0             PLANO, TEXAS   \n",
       "2                  Y         193066.0  2016.0  JERSEY CITY, NEW JERSEY   \n",
       "3                  Y         220314.0  2016.0         DENVER, COLORADO   \n",
       "4                  Y         157518.4  2016.0      ST. LOUIS, MISSOURI   \n",
       "\n",
       "          lon        lat  \n",
       "0  -83.743038  42.280826  \n",
       "1  -96.698886  33.019843  \n",
       "2  -74.077642  40.728158  \n",
       "3 -104.990251  39.739236  \n",
       "4  -90.199404  38.627003  "
      ]
     },
     "execution_count": 49,
     "metadata": {},
     "output_type": "execute_result"
    }
   ],
   "source": [
    "h1b.head()"
   ]
  },
  {
   "cell_type": "markdown",
   "id": "76e292b2",
   "metadata": {},
   "source": [
    "#### <p style=\"background-color:#068FFF; color:white; font-family:newtimeroman; font-size:150%; text-align:left; border-radius: 5px 5px;padding-left:50px;padding:10px\">Data Cleansing:</p>"
   ]
  },
  {
   "cell_type": "code",
   "execution_count": 50,
   "id": "394ca03c",
   "metadata": {},
   "outputs": [
    {
     "data": {
      "text/plain": [
       "Unnamed: 0                 0\n",
       "CASE_STATUS               13\n",
       "EMPLOYER_NAME             59\n",
       "SOC_NAME               17734\n",
       "JOB_TITLE                 43\n",
       "FULL_TIME_POSITION        15\n",
       "PREVAILING_WAGE           85\n",
       "YEAR                      13\n",
       "WORKSITE                   0\n",
       "lon                   107242\n",
       "lat                   107242\n",
       "dtype: int64"
      ]
     },
     "execution_count": 50,
     "metadata": {},
     "output_type": "execute_result"
    }
   ],
   "source": [
    "#checking for null entries in every column.\n",
    "h1b.isnull().sum()"
   ]
  },
  {
   "cell_type": "code",
   "execution_count": 51,
   "id": "9ace1a69",
   "metadata": {},
   "outputs": [],
   "source": [
    "#filling 'na' values with 0 and deleting duplicate values\n",
    "h1b.fillna(0,inplace=True)\n",
    "h1b.drop_duplicates(inplace=True)"
   ]
  },
  {
   "cell_type": "code",
   "execution_count": 52,
   "id": "78139e99",
   "metadata": {},
   "outputs": [
    {
     "data": {
      "text/plain": [
       "Unnamed: 0            0\n",
       "CASE_STATUS           0\n",
       "EMPLOYER_NAME         0\n",
       "SOC_NAME              0\n",
       "JOB_TITLE             0\n",
       "FULL_TIME_POSITION    0\n",
       "PREVAILING_WAGE       0\n",
       "YEAR                  0\n",
       "WORKSITE              0\n",
       "lon                   0\n",
       "lat                   0\n",
       "dtype: int64"
      ]
     },
     "execution_count": 52,
     "metadata": {},
     "output_type": "execute_result"
    }
   ],
   "source": [
    "h1b.isnull().sum()"
   ]
  },
  {
   "cell_type": "code",
   "execution_count": 53,
   "id": "82105e1d",
   "metadata": {},
   "outputs": [],
   "source": [
    "#changing categorical data into numerical data\n",
    "h1b.replace({'Y':1,'N':0},inplace=True)"
   ]
  },
  {
   "cell_type": "code",
   "execution_count": 54,
   "id": "ec919725",
   "metadata": {},
   "outputs": [
    {
     "data": {
      "text/html": [
       "<div>\n",
       "<style scoped>\n",
       "    .dataframe tbody tr th:only-of-type {\n",
       "        vertical-align: middle;\n",
       "    }\n",
       "\n",
       "    .dataframe tbody tr th {\n",
       "        vertical-align: top;\n",
       "    }\n",
       "\n",
       "    .dataframe thead th {\n",
       "        text-align: right;\n",
       "    }\n",
       "</style>\n",
       "<table border=\"1\" class=\"dataframe\">\n",
       "  <thead>\n",
       "    <tr style=\"text-align: right;\">\n",
       "      <th></th>\n",
       "      <th>Unnamed: 0</th>\n",
       "      <th>CASE_STATUS</th>\n",
       "      <th>EMPLOYER_NAME</th>\n",
       "      <th>SOC_NAME</th>\n",
       "      <th>JOB_TITLE</th>\n",
       "      <th>FULL_TIME_POSITION</th>\n",
       "      <th>PREVAILING_WAGE</th>\n",
       "      <th>YEAR</th>\n",
       "      <th>WORKSITE</th>\n",
       "      <th>lon</th>\n",
       "      <th>lat</th>\n",
       "    </tr>\n",
       "  </thead>\n",
       "  <tbody>\n",
       "    <tr>\n",
       "      <th>0</th>\n",
       "      <td>1</td>\n",
       "      <td>CERTIFIED-WITHDRAWN</td>\n",
       "      <td>UNIVERSITY OF MICHIGAN</td>\n",
       "      <td>BIOCHEMISTS AND BIOPHYSICISTS</td>\n",
       "      <td>POSTDOCTORAL RESEARCH FELLOW</td>\n",
       "      <td>0</td>\n",
       "      <td>36067.0</td>\n",
       "      <td>2016.0</td>\n",
       "      <td>ANN ARBOR, MICHIGAN</td>\n",
       "      <td>-83.743038</td>\n",
       "      <td>42.280826</td>\n",
       "    </tr>\n",
       "    <tr>\n",
       "      <th>1</th>\n",
       "      <td>2</td>\n",
       "      <td>CERTIFIED-WITHDRAWN</td>\n",
       "      <td>GOODMAN NETWORKS, INC.</td>\n",
       "      <td>CHIEF EXECUTIVES</td>\n",
       "      <td>CHIEF OPERATING OFFICER</td>\n",
       "      <td>1</td>\n",
       "      <td>242674.0</td>\n",
       "      <td>2016.0</td>\n",
       "      <td>PLANO, TEXAS</td>\n",
       "      <td>-96.698886</td>\n",
       "      <td>33.019843</td>\n",
       "    </tr>\n",
       "    <tr>\n",
       "      <th>2</th>\n",
       "      <td>3</td>\n",
       "      <td>CERTIFIED-WITHDRAWN</td>\n",
       "      <td>PORTS AMERICA GROUP, INC.</td>\n",
       "      <td>CHIEF EXECUTIVES</td>\n",
       "      <td>CHIEF PROCESS OFFICER</td>\n",
       "      <td>1</td>\n",
       "      <td>193066.0</td>\n",
       "      <td>2016.0</td>\n",
       "      <td>JERSEY CITY, NEW JERSEY</td>\n",
       "      <td>-74.077642</td>\n",
       "      <td>40.728158</td>\n",
       "    </tr>\n",
       "    <tr>\n",
       "      <th>3</th>\n",
       "      <td>4</td>\n",
       "      <td>CERTIFIED-WITHDRAWN</td>\n",
       "      <td>GATES CORPORATION, A WHOLLY-OWNED SUBSIDIARY O...</td>\n",
       "      <td>CHIEF EXECUTIVES</td>\n",
       "      <td>REGIONAL PRESIDEN, AMERICAS</td>\n",
       "      <td>1</td>\n",
       "      <td>220314.0</td>\n",
       "      <td>2016.0</td>\n",
       "      <td>DENVER, COLORADO</td>\n",
       "      <td>-104.990251</td>\n",
       "      <td>39.739236</td>\n",
       "    </tr>\n",
       "    <tr>\n",
       "      <th>4</th>\n",
       "      <td>5</td>\n",
       "      <td>WITHDRAWN</td>\n",
       "      <td>PEABODY INVESTMENTS CORP.</td>\n",
       "      <td>CHIEF EXECUTIVES</td>\n",
       "      <td>PRESIDENT MONGOLIA AND INDIA</td>\n",
       "      <td>1</td>\n",
       "      <td>157518.4</td>\n",
       "      <td>2016.0</td>\n",
       "      <td>ST. LOUIS, MISSOURI</td>\n",
       "      <td>-90.199404</td>\n",
       "      <td>38.627003</td>\n",
       "    </tr>\n",
       "  </tbody>\n",
       "</table>\n",
       "</div>"
      ],
      "text/plain": [
       "   Unnamed: 0          CASE_STATUS  \\\n",
       "0           1  CERTIFIED-WITHDRAWN   \n",
       "1           2  CERTIFIED-WITHDRAWN   \n",
       "2           3  CERTIFIED-WITHDRAWN   \n",
       "3           4  CERTIFIED-WITHDRAWN   \n",
       "4           5            WITHDRAWN   \n",
       "\n",
       "                                       EMPLOYER_NAME  \\\n",
       "0                             UNIVERSITY OF MICHIGAN   \n",
       "1                             GOODMAN NETWORKS, INC.   \n",
       "2                          PORTS AMERICA GROUP, INC.   \n",
       "3  GATES CORPORATION, A WHOLLY-OWNED SUBSIDIARY O...   \n",
       "4                          PEABODY INVESTMENTS CORP.   \n",
       "\n",
       "                        SOC_NAME                     JOB_TITLE  \\\n",
       "0  BIOCHEMISTS AND BIOPHYSICISTS  POSTDOCTORAL RESEARCH FELLOW   \n",
       "1               CHIEF EXECUTIVES       CHIEF OPERATING OFFICER   \n",
       "2               CHIEF EXECUTIVES         CHIEF PROCESS OFFICER   \n",
       "3               CHIEF EXECUTIVES   REGIONAL PRESIDEN, AMERICAS   \n",
       "4               CHIEF EXECUTIVES  PRESIDENT MONGOLIA AND INDIA   \n",
       "\n",
       "   FULL_TIME_POSITION  PREVAILING_WAGE    YEAR                 WORKSITE  \\\n",
       "0                   0          36067.0  2016.0      ANN ARBOR, MICHIGAN   \n",
       "1                   1         242674.0  2016.0             PLANO, TEXAS   \n",
       "2                   1         193066.0  2016.0  JERSEY CITY, NEW JERSEY   \n",
       "3                   1         220314.0  2016.0         DENVER, COLORADO   \n",
       "4                   1         157518.4  2016.0      ST. LOUIS, MISSOURI   \n",
       "\n",
       "          lon        lat  \n",
       "0  -83.743038  42.280826  \n",
       "1  -96.698886  33.019843  \n",
       "2  -74.077642  40.728158  \n",
       "3 -104.990251  39.739236  \n",
       "4  -90.199404  38.627003  "
      ]
     },
     "execution_count": 54,
     "metadata": {},
     "output_type": "execute_result"
    }
   ],
   "source": [
    "h1b.head()"
   ]
  },
  {
   "cell_type": "markdown",
   "id": "84ef6178",
   "metadata": {},
   "source": [
    "#### <p style=\"background-color:#068FFF; color:white; font-family:newtimeroman; font-size:150%; text-align:left; border-radius: 5px 5px;padding-left:50px;padding:10px\">Exploratory Data Analysis:</p>"
   ]
  },
  {
   "cell_type": "code",
   "execution_count": 55,
   "id": "1192fc53",
   "metadata": {},
   "outputs": [
    {
     "name": "stdout",
     "output_type": "stream",
     "text": [
      "CERTIFIED                                             2615623\n",
      "CERTIFIED-WITHDRAWN                                    202659\n",
      "DENIED                                                  94346\n",
      "WITHDRAWN                                               89799\n",
      "PENDING QUALITY AND COMPLIANCE REVIEW - UNASSIGNED         15\n",
      "0                                                          13\n",
      "REJECTED                                                    2\n",
      "INVALIDATED                                                 1\n",
      "Name: CASE_STATUS, dtype: int64\n"
     ]
    }
   ],
   "source": [
    "# Petition distributed by case statuses\n",
    "print(h1b['CASE_STATUS'].value_counts())"
   ]
  },
  {
   "cell_type": "code",
   "execution_count": 56,
   "id": "d5cf4ce3",
   "metadata": {},
   "outputs": [
    {
     "data": {
      "text/plain": [
       "INFOSYS LIMITED                      130592\n",
       "TATA CONSULTANCY SERVICES LIMITED     64726\n",
       "WIPRO LIMITED                         48117\n",
       "DELOITTE CONSULTING LLP               36742\n",
       "IBM INDIA PRIVATE LIMITED             34219\n",
       "                                      ...  \n",
       "HARBORTOUCH PAYMENTS, LLC                 1\n",
       "RESULTLY LLC                              1\n",
       "AMERICAN POWDER COATING                   1\n",
       "WEST FLORIDA MEDICAL ASSOCIATES           1\n",
       "J. LOGAN INTERIORS                        1\n",
       "Name: EMPLOYER_NAME, Length: 236014, dtype: int64"
      ]
     },
     "execution_count": 56,
     "metadata": {},
     "output_type": "execute_result"
    }
   ],
   "source": [
    "# Top employers filing the petitions\n",
    "h1b['EMPLOYER_NAME'].value_counts()"
   ]
  },
  {
   "cell_type": "code",
   "execution_count": 57,
   "id": "267e32fc",
   "metadata": {},
   "outputs": [
    {
     "data": {
      "text/plain": [
       "INFOSYS LIMITED                                    130592\n",
       "TATA CONSULTANCY SERVICES LIMITED                   64726\n",
       "WIPRO LIMITED                                       48117\n",
       "DELOITTE CONSULTING LLP                             36742\n",
       "IBM INDIA PRIVATE LIMITED                           34219\n",
       "ACCENTURE LLP                                       33447\n",
       "MICROSOFT CORPORATION                               25576\n",
       "HCL AMERICA, INC.                                   22678\n",
       "ERNST & YOUNG U.S. LLP                              18232\n",
       "COGNIZANT TECHNOLOGY SOLUTIONS U.S. CORPORATION     17528\n",
       "LARSEN & TOUBRO INFOTECH LIMITED                    17457\n",
       "CAPGEMINI AMERICA INC                               16725\n",
       "GOOGLE INC.                                         16473\n",
       "IBM CORPORATION                                     13276\n",
       "IGATE TECHNOLOGIES INC.                             12564\n",
       "Name: EMPLOYER_NAME, dtype: int64"
      ]
     },
     "execution_count": 57,
     "metadata": {},
     "output_type": "execute_result"
    }
   ],
   "source": [
    "# Top 15 companies that filed the most visa application\n",
    "h1b['EMPLOYER_NAME'].value_counts()[0:15]"
   ]
  },
  {
   "cell_type": "code",
   "execution_count": 58,
   "id": "b04b7392",
   "metadata": {},
   "outputs": [
    {
     "name": "stdout",
     "output_type": "stream",
     "text": [
      "     index                        EMPLOYER_NAME  PREVAILING_WAGE\n",
      "0  2163248  GUARDIAN HEALTHCARE PROVIDERS, INC.     6.997607e+09\n",
      "1  2797982                     SCIVANTAGE, INC.     1.007814e+09\n",
      "2  1673867               DISCOVER PRODUCTS INC.     8.201323e+08\n",
      "3  1819718                        IDEXCEL, INC.     7.099999e+08\n",
      "4  2775906                  COMMONHEALTH ACTION     6.579000e+08\n"
     ]
    }
   ],
   "source": [
    "# Top employers granting maximum prevailing wages\n",
    "print(h1b.sort_values(by='PREVAILING_WAGE',ascending=False)[['EMPLOYER_NAME','PREVAILING_WAGE']][0:5].reset_index())"
   ]
  },
  {
   "cell_type": "code",
   "execution_count": 59,
   "id": "3405afb5",
   "metadata": {},
   "outputs": [
    {
     "data": {
      "text/plain": [
       " CALIFORNIA        559942\n",
       " TEXAS             294455\n",
       " NEW YORK          291412\n",
       " NEW JERSEY        214078\n",
       " ILLINOIS          160814\n",
       " MASSACHUSETTS     116466\n",
       " PENNSYLVANIA      109960\n",
       " FLORIDA           105773\n",
       " GEORGIA           103168\n",
       " WASHINGTON        102801\n",
       " VIRGINIA           90028\n",
       " MICHIGAN           82964\n",
       " NORTH CAROLINA     79672\n",
       " OHIO               76575\n",
       " MARYLAND           56257\n",
       " CONNECTICUT        50253\n",
       " MINNESOTA          48686\n",
       " ARIZONA            42054\n",
       " MISSOURI           34813\n",
       " WISCONSIN          32672\n",
       "Name: WORKSITE, dtype: int64"
      ]
     },
     "execution_count": 59,
     "metadata": {},
     "output_type": "execute_result"
    }
   ],
   "source": [
    "# Top 20 states filing highest visa petitions\n",
    "h1b['WORKSITE'].str.split(',').str[1].value_counts()[:20]"
   ]
  },
  {
   "cell_type": "code",
   "execution_count": 60,
   "id": "dbacdf40",
   "metadata": {},
   "outputs": [
    {
     "data": {
      "text/plain": [
       "2016.0    647803\n",
       "2015.0    618727\n",
       "2014.0    519427\n",
       "2013.0    442114\n",
       "2012.0    415607\n",
       "2011.0    358767\n",
       "0.0           13\n",
       "Name: YEAR, dtype: int64"
      ]
     },
     "execution_count": 60,
     "metadata": {},
     "output_type": "execute_result"
    }
   ],
   "source": [
    "# Petition distribution by year\n",
    "year=h1b['YEAR'].value_counts()\n",
    "year"
   ]
  },
  {
   "cell_type": "code",
   "execution_count": 61,
   "id": "0c69520d",
   "metadata": {},
   "outputs": [
    {
     "data": {
      "image/png": "[encoded data removed]",
      "text/plain": [
       "<Figure size 600x300 with 1 Axes>"
      ]
     },
     "metadata": {},
     "output_type": "display_data"
    }
   ],
   "source": [
    "plt.figure(figsize=(6,3))\n",
    "year.plot(kind='bar')\n",
    "plt.xlabel('Year')\n",
    "plt.ylabel('Petitions')\n",
    "plt.title(\"Petition Distribution by Year\",pad=10)\n",
    "plt.show()"
   ]
  },
  {
   "cell_type": "code",
   "execution_count": 62,
   "id": "eecda9c5",
   "metadata": {},
   "outputs": [
    {
     "data": {
      "text/plain": [
       "94346"
      ]
     },
     "execution_count": 62,
     "metadata": {},
     "output_type": "execute_result"
    }
   ],
   "source": [
    "# Number of visa petitions denied\n",
    "h1b['CASE_STATUS'].value_counts().loc['DENIED']"
   ]
  },
  {
   "cell_type": "code",
   "execution_count": 63,
   "id": "b6e34a9d",
   "metadata": {},
   "outputs": [
    {
     "name": "stdout",
     "output_type": "stream",
     "text": [
      "YEAR\n",
      "2012.0    5.075949\n",
      "2013.0    2.742732\n",
      "2014.0    2.290216\n",
      "2015.0    1.765399\n",
      "2016.0    1.416326\n",
      "dtype: float64\n"
     ]
    },
    {
     "data": {
      "image/png": "[encoded data removed]",
      "text/plain": [
       "<Figure size 600x300 with 1 Axes>"
      ]
     },
     "metadata": {},
     "output_type": "display_data"
    }
   ],
   "source": [
    "# Rate of visas denied from last 5 years\n",
    "total_pet=h1b.groupby('YEAR')['CASE_STATUS'].count()\n",
    "deny_rate=h1b[h1b['CASE_STATUS']=='DENIED'].groupby('YEAR').size()/total_pet * 100\n",
    "print(deny_rate.iloc[-5:])\n",
    "plt.figure(figsize=(6,3))\n",
    "deny_rate.iloc[-5:].plot(kind='bar')\n",
    "plt.xlabel('Year')\n",
    "plt.ylabel('Rate of Visas denied (%)')\n",
    "plt.title('Rate of Denied Cases in last 5 years',pad=20)\n",
    "plt.show()"
   ]
  },
  {
   "cell_type": "code",
   "execution_count": 64,
   "id": "0f826bae",
   "metadata": {},
   "outputs": [
    {
     "data": {
      "text/plain": [
       " CALIFORNIA              559942\n",
       " TEXAS                   294455\n",
       " NEW YORK                291412\n",
       " NEW JERSEY              214078\n",
       " ILLINOIS                160814\n",
       " MASSACHUSETTS           116466\n",
       " PENNSYLVANIA            109960\n",
       " FLORIDA                 105773\n",
       " GEORGIA                 103168\n",
       " WASHINGTON              102801\n",
       " VIRGINIA                 90028\n",
       " MICHIGAN                 82964\n",
       " NORTH CAROLINA           79672\n",
       " OHIO                     76575\n",
       " MARYLAND                 56257\n",
       " CONNECTICUT              50253\n",
       " MINNESOTA                48686\n",
       " ARIZONA                  42054\n",
       " MISSOURI                 34813\n",
       " WISCONSIN                32672\n",
       " COLORADO                 32038\n",
       " INDIANA                  30516\n",
       " TENNESSEE                27673\n",
       " OREGON                   23790\n",
       " DISTRICT OF COLUMBIA     22708\n",
       " DELAWARE                 18138\n",
       " IOWA                     16743\n",
       " ARKANSAS                 14762\n",
       " KANSAS                   13782\n",
       " UTAH                     13107\n",
       " SOUTH CAROLINA           12932\n",
       " KENTUCKY                 12702\n",
       " RHODE ISLAND             11717\n",
       " LOUISIANA                11669\n",
       " OKLAHOMA                 10597\n",
       " ALABAMA                  10253\n",
       " NEW HAMPSHIRE             9929\n",
       " NEBRASKA                  9256\n",
       " NEVADA                    7448\n",
       " NEW MEXICO                5541\n",
       " MISSISSIPPI               4270\n",
       " IDAHO                     4191\n",
       " MAINE                     3918\n",
       " HAWAII                    3752\n",
       " NA                        3604\n",
       " WEST VIRGINIA             3079\n",
       " NORTH DAKOTA              2927\n",
       " VERMONT                   1941\n",
       " SOUTH DAKOTA              1902\n",
       " PUERTO RICO               1452\n",
       " ALASKA                    1396\n",
       " MONTANA                    986\n",
       " WYOMING                    896\n",
       "Name: WORKSITE, dtype: int64"
      ]
     },
     "execution_count": 64,
     "metadata": {},
     "output_type": "execute_result"
    }
   ],
   "source": [
    "# Number of visa petitions filed by states\n",
    "state_pet=h1b['WORKSITE'].str.split(',').str[1].value_counts()\n",
    "state_pet"
   ]
  },
  {
   "cell_type": "code",
   "execution_count": 65,
   "id": "cf21523f",
   "metadata": {},
   "outputs": [
    {
     "data": {
      "text/plain": [
       " ALABAMA                  5.091193\n",
       " ALASKA                  11.318052\n",
       " ARIZONA                  2.751225\n",
       " ARKANSAS                 2.255792\n",
       " CALIFORNIA               3.168185\n",
       " COLORADO                 3.567638\n",
       " CONNECTICUT              2.459555\n",
       " DELAWARE                 2.023376\n",
       " DISTRICT OF COLUMBIA     5.205214\n",
       " FLORIDA                  5.272612\n",
       " GEORGIA                  2.671371\n",
       " HAWAII                  10.394456\n",
       " IDAHO                    4.628967\n",
       " ILLINOIS                 2.453145\n",
       " INDIANA                  2.726439\n",
       " IOWA                     2.610046\n",
       " KANSAS                   3.156291\n",
       " KENTUCKY                 3.369548\n",
       " LOUISIANA                5.304653\n",
       " MAINE                    3.471159\n",
       " MARYLAND                 3.741757\n",
       " MASSACHUSETTS            3.115931\n",
       " MICHIGAN                 2.699966\n",
       " MINNESOTA                2.310726\n",
       " MISSISSIPPI              6.510539\n",
       " MISSOURI                 2.318100\n",
       " MONTANA                  8.519270\n",
       " NA                      20.227525\n",
       " NEBRASKA                 3.035869\n",
       " NEVADA                   8.096133\n",
       " NEW HAMPSHIRE            2.266089\n",
       " NEW JERSEY               2.294958\n",
       " NEW MEXICO               5.775131\n",
       " NEW YORK                 4.331325\n",
       " NORTH CAROLINA           2.303193\n",
       " NORTH DAKOTA             4.953878\n",
       " OHIO                     2.442050\n",
       " OKLAHOMA                 4.435218\n",
       " OREGON                   2.681799\n",
       " PENNSYLVANIA             2.496362\n",
       " PUERTO RICO             15.358127\n",
       " RHODE ISLAND             2.372621\n",
       " SOUTH CAROLINA           4.206619\n",
       " SOUTH DAKOTA             4.679285\n",
       " TENNESSEE                3.100495\n",
       " TEXAS                    2.917933\n",
       " UTAH                     4.386969\n",
       " VERMONT                  5.461103\n",
       " VIRGINIA                 3.170125\n",
       " WASHINGTON               1.946479\n",
       " WEST VIRGINIA            4.969146\n",
       " WISCONSIN                2.212904\n",
       " WYOMING                 11.049107\n",
       "Name: WORKSITE, dtype: float64"
      ]
     },
     "execution_count": 65,
     "metadata": {},
     "output_type": "execute_result"
    }
   ],
   "source": [
    "# Rate of denial of visa petition by the states\n",
    "statedeny_rate=h1b['WORKSITE'].str.split(',').str[1][h1b['CASE_STATUS']=='DENIED'].value_counts()/state_pet *100\n",
    "statedeny_rate"
   ]
  },
  {
   "cell_type": "code",
   "execution_count": 66,
   "id": "c24f1bbb",
   "metadata": {},
   "outputs": [
    {
     "data": {
      "text/plain": [
       "PROGRAMMER ANALYST             249038\n",
       "SOFTWARE ENGINEER              121307\n",
       "COMPUTER PROGRAMMER             70570\n",
       "SYSTEMS ANALYST                 61965\n",
       "SOFTWARE DEVELOPER              42907\n",
       "BUSINESS ANALYST                39681\n",
       "COMPUTER SYSTEMS ANALYST        35086\n",
       "TECHNOLOGY LEAD - US            28350\n",
       "SENIOR SOFTWARE ENGINEER        27133\n",
       "TECHNOLOGY ANALYST - US         26055\n",
       "ASSISTANT PROFESSOR             25265\n",
       "SENIOR CONSULTANT               24904\n",
       "CONSULTANT                      23081\n",
       "PHYSICAL THERAPIST              20207\n",
       "PROJECT MANAGER                 20172\n",
       "DATABASE ADMINISTRATOR          16665\n",
       "ACCOUNTANT                      14048\n",
       "COMPUTER PROGRAMMER ANALYST     13634\n",
       "RESEARCH ASSOCIATE              13623\n",
       "DEVELOPER                       12909\n",
       "ASSOCIATE                       12502\n",
       "ANALYST                         11751\n",
       "LEAD ENGINEER                   11157\n",
       "COMPUTER SYSTEMS ENGINEER       11090\n",
       "SENIOR SOFTWARE DEVELOPER       10208\n",
       "Name: JOB_TITLE, dtype: int64"
      ]
     },
     "execution_count": 66,
     "metadata": {},
     "output_type": "execute_result"
    }
   ],
   "source": [
    "# Top 25 job titles\n",
    "h1b['JOB_TITLE'].value_counts()[:25]"
   ]
  },
  {
   "cell_type": "code",
   "execution_count": 67,
   "id": "f0c321c7",
   "metadata": {},
   "outputs": [
    {
     "data": {
      "text/html": [
       "<div>\n",
       "<style scoped>\n",
       "    .dataframe tbody tr th:only-of-type {\n",
       "        vertical-align: middle;\n",
       "    }\n",
       "\n",
       "    .dataframe tbody tr th {\n",
       "        vertical-align: top;\n",
       "    }\n",
       "\n",
       "    .dataframe thead th {\n",
       "        text-align: right;\n",
       "    }\n",
       "</style>\n",
       "<table border=\"1\" class=\"dataframe\">\n",
       "  <thead>\n",
       "    <tr style=\"text-align: right;\">\n",
       "      <th></th>\n",
       "      <th>index</th>\n",
       "      <th>JOB_TITLE</th>\n",
       "      <th>PREVAILING_WAGE</th>\n",
       "    </tr>\n",
       "  </thead>\n",
       "  <tbody>\n",
       "    <tr>\n",
       "      <th>0</th>\n",
       "      <td>2163248</td>\n",
       "      <td>PHYSICAL THERAPISTS</td>\n",
       "      <td>6.997607e+09</td>\n",
       "    </tr>\n",
       "    <tr>\n",
       "      <th>1</th>\n",
       "      <td>2797982</td>\n",
       "      <td>SOFTWARE DEVELOPER</td>\n",
       "      <td>1.007814e+09</td>\n",
       "    </tr>\n",
       "    <tr>\n",
       "      <th>2</th>\n",
       "      <td>1673867</td>\n",
       "      <td>PROJECT MANAGER</td>\n",
       "      <td>8.201323e+08</td>\n",
       "    </tr>\n",
       "    <tr>\n",
       "      <th>3</th>\n",
       "      <td>1819718</td>\n",
       "      <td>.NET DEVELOPER</td>\n",
       "      <td>7.099999e+08</td>\n",
       "    </tr>\n",
       "    <tr>\n",
       "      <th>4</th>\n",
       "      <td>2775906</td>\n",
       "      <td>PROGRAM MANAGER (POSITIVE PATHWAYS)</td>\n",
       "      <td>6.579000e+08</td>\n",
       "    </tr>\n",
       "    <tr>\n",
       "      <th>5</th>\n",
       "      <td>1547574</td>\n",
       "      <td>PROGRAMMER/ANALYST</td>\n",
       "      <td>6.169317e+08</td>\n",
       "    </tr>\n",
       "    <tr>\n",
       "      <th>6</th>\n",
       "      <td>1668384</td>\n",
       "      <td>RESEARCH ASSOCIATE</td>\n",
       "      <td>4.134726e+08</td>\n",
       "    </tr>\n",
       "    <tr>\n",
       "      <th>7</th>\n",
       "      <td>1805875</td>\n",
       "      <td>MANAGER, SOFTWARE ENGINEERING</td>\n",
       "      <td>4.103154e+08</td>\n",
       "    </tr>\n",
       "    <tr>\n",
       "      <th>8</th>\n",
       "      <td>2796071</td>\n",
       "      <td>MANAGING DIRECTOR, EQUITY DERIVATIVES</td>\n",
       "      <td>4.066379e+08</td>\n",
       "    </tr>\n",
       "    <tr>\n",
       "      <th>9</th>\n",
       "      <td>1698325</td>\n",
       "      <td>INTERNIST</td>\n",
       "      <td>3.893760e+08</td>\n",
       "    </tr>\n",
       "  </tbody>\n",
       "</table>\n",
       "</div>"
      ],
      "text/plain": [
       "     index                              JOB_TITLE  PREVAILING_WAGE\n",
       "0  2163248                    PHYSICAL THERAPISTS     6.997607e+09\n",
       "1  2797982                     SOFTWARE DEVELOPER     1.007814e+09\n",
       "2  1673867                        PROJECT MANAGER     8.201323e+08\n",
       "3  1819718                         .NET DEVELOPER     7.099999e+08\n",
       "4  2775906    PROGRAM MANAGER (POSITIVE PATHWAYS)     6.579000e+08\n",
       "5  1547574                     PROGRAMMER/ANALYST     6.169317e+08\n",
       "6  1668384                     RESEARCH ASSOCIATE     4.134726e+08\n",
       "7  1805875          MANAGER, SOFTWARE ENGINEERING     4.103154e+08\n",
       "8  2796071  MANAGING DIRECTOR, EQUITY DERIVATIVES     4.066379e+08\n",
       "9  1698325                              INTERNIST     3.893760e+08"
      ]
     },
     "execution_count": 67,
     "metadata": {},
     "output_type": "execute_result"
    }
   ],
   "source": [
    "# Top 10 occupations with the highest wages\n",
    "h1b[['JOB_TITLE','PREVAILING_WAGE']].sort_values(by='PREVAILING_WAGE',ascending=False)[:10].reset_index()"
   ]
  },
  {
   "cell_type": "code",
   "execution_count": 69,
   "id": "82478eab",
   "metadata": {},
   "outputs": [
    {
     "data": {
      "image/png": "[encoded data removed]",
      "text/plain": [
       "<Figure size 640x480 with 1 Axes>"
      ]
     },
     "metadata": {},
     "output_type": "display_data"
    }
   ],
   "source": [
    "# To analyse the fraction of full-time and part-time workers\n",
    "p_labels=['Yes','No']\n",
    "h1b['FULL_TIME_POSITION'].value_counts().plot(kind=\"pie\",autopct=\"%.2f%%\",explode=[0,0.2],shadow=True,labels=p_labels)\n",
    "plt.title(\"Fraction of Workers\")\n",
    "plt.show()"
   ]
  },
  {
   "cell_type": "markdown",
   "id": "816f560f",
   "metadata": {},
   "source": [
    "#### <p style=\"background-color:#068FFF; color:white; font-family:newtimeroman; font-size:150%; text-align:left; border-radius: 5px 5px;padding-left:50px;padding:10px\">Conclusion:</p>"
   ]
  },
  {
   "cell_type": "markdown",
   "id": "b8568d39",
   "metadata": {},
   "source": [
    "* The data used for the analysis ramges from 2011-2016 and hence may not represent current conditions of H1-B visas accurately.\n",
    "* In the project we have tried to find trends between people who have been granted the visa or those who have been rejected/ withdrawn etc.\n",
    "* We have tried to find trends of different companies on the basis of petitions filed, previaling wages and employment."
   ]
  },
  {
   "cell_type": "markdown",
   "id": "2ffa68fe",
   "metadata": {},
   "source": [
    "#### <p style=\"background-color:#068FFF; color:white; font-family:newtimeroman; font-size:150%; text-align:left; border-radius: 5px 5px;padding-left:50px;padding:10px\">References:</p>"
   ]
  },
  {
   "cell_type": "markdown",
   "id": "d5b64fc6",
   "metadata": {},
   "source": [
    "* Official documentation of matplotlib\n",
    "* Kaggle"
   ]
  }
 ],
 "metadata": {
  "kernelspec": {
   "display_name": "Python 3 (ipykernel)",
   "language": "python",
   "name": "python3"
  },
  "language_info": {
   "codemirror_mode": {
    "name": "ipython",
    "version": 3
   },
   "file_extension": ".py",
   "mimetype": "text/x-python",
   "name": "python",
   "nbconvert_exporter": "python",
   "pygments_lexer": "ipython3",
   "version": "3.10.9"
  }
 },
 "nbformat": 4,
 "nbformat_minor": 5
}
